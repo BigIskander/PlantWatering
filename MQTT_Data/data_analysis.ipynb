{
 "cells": [
  {
   "cell_type": "markdown",
   "metadata": {},
   "source": [
    "Read data file."
   ]
  },
  {
   "cell_type": "code",
   "execution_count": null,
   "metadata": {},
   "outputs": [],
   "source": [
    "import pandas as pd"
   ]
  },
  {
   "cell_type": "code",
   "execution_count": null,
   "metadata": {},
   "outputs": [],
   "source": [
    "data = pd.read_csv(\"./data.csv\", header=None)"
   ]
  },
  {
   "cell_type": "code",
   "execution_count": null,
   "metadata": {},
   "outputs": [],
   "source": [
    "data"
   ]
  },
  {
   "cell_type": "markdown",
   "metadata": {},
   "source": [
    "Make empty columns."
   ]
  },
  {
   "cell_type": "code",
   "execution_count": null,
   "metadata": {},
   "outputs": [],
   "source": [
    "data[1] = \"\"\n",
    "data[2] = \"\"\n",
    "data[3] = \"\"\n",
    "data[4] = \"\"\n",
    "data[5] = \"\""
   ]
  },
  {
   "cell_type": "markdown",
   "metadata": {},
   "source": [
    "Parsing data. Dirty trick, but it's working."
   ]
  },
  {
   "cell_type": "code",
   "execution_count": null,
   "metadata": {},
   "outputs": [],
   "source": [
    "import re"
   ]
  },
  {
   "cell_type": "code",
   "execution_count": null,
   "metadata": {},
   "outputs": [],
   "source": [
    "for i in range(0, len(data)):\n",
    "    row = re.split(r';', data[0][i])\n",
    "    rowLen = len(row)\n",
    "    if rowLen >= 1:\n",
    "        dateTime = re.findall(r\"^(\\d{4}\\-\\d{2}\\-\\d{2}\\s\\d{2}:\\d{2}:\\d{2})\", row[0])\n",
    "        if len(dateTime) >=1:\n",
    "            data[1][i] = dateTime[0]\n",
    "    if rowLen >= 2:\n",
    "        data[2][i] = row[1]\n",
    "    if rowLen >= 3:\n",
    "        data[3][i] = row[2]\n",
    "    if rowLen >= 4:\n",
    "        data[4][i] = row[3]\n",
    "    if rowLen >= 5:\n",
    "        data[5][i] = row[4]"
   ]
  },
  {
   "cell_type": "markdown",
   "metadata": {},
   "source": [
    "Get separate values in separate data frames."
   ]
  },
  {
   "cell_type": "code",
   "execution_count": null,
   "metadata": {},
   "outputs": [],
   "source": [
    "v = []\n",
    "for i in range(0, len(data)):\n",
    "    if data[2][i] == '\"voltage\"':\n",
    "        val = re.findall(r\"(\\d{0,}\\.\\d{0,})\", data[3][i])\n",
    "        v.append({\"date\": data[1][i], \"value\": val[0]})\n",
    "voltage = pd.DataFrame(v)"
   ]
  },
  {
   "cell_type": "code",
   "execution_count": null,
   "metadata": {},
   "outputs": [],
   "source": [
    "voltage"
   ]
  },
  {
   "cell_type": "code",
   "execution_count": null,
   "metadata": {},
   "outputs": [],
   "source": [
    "v = []\n",
    "for i in range(0, len(data)):\n",
    "    if data[2][i] == '\"moisture\"':\n",
    "        val = re.findall(r\"(\\d{0,}\\.\\d{0,})\", data[3][i])\n",
    "        v.append({\"date\": data[1][i], \"value\": val[0]})\n",
    "moisture = pd.DataFrame(v)"
   ]
  },
  {
   "cell_type": "code",
   "execution_count": null,
   "metadata": {},
   "outputs": [],
   "source": [
    "moisture"
   ]
  },
  {
   "cell_type": "code",
   "execution_count": null,
   "metadata": {},
   "outputs": [],
   "source": [
    "v = []\n",
    "for i in range(0, len(data)):\n",
    "    if data[2][i] == '\"water\"':\n",
    "        val = re.findall(r\"(\\d{0,}\\.\\d{0,})\", data[3][i])\n",
    "        v.append({\"date\": data[1][i], \"value\": val[0]})\n",
    "water = pd.DataFrame(v)"
   ]
  },
  {
   "cell_type": "code",
   "execution_count": null,
   "metadata": {},
   "outputs": [],
   "source": [
    "water"
   ]
  },
  {
   "cell_type": "markdown",
   "metadata": {},
   "source": [
    "Combining data frames into one data frame."
   ]
  },
  {
   "cell_type": "code",
   "execution_count": null,
   "metadata": {},
   "outputs": [],
   "source": [
    "import datetime as dt"
   ]
  },
  {
   "cell_type": "code",
   "execution_count": null,
   "metadata": {},
   "outputs": [],
   "source": [
    "def getDate(value):\n",
    "    parse =  re.findall(r\"\\d{4}|\\d{2}\", value)\n",
    "    return dt.datetime(int(parse[0]), int(parse[1]), int(parse[2]), int(parse[3]), int(parse[4]), int(parse[5]))\n",
    "def compareDates(date1, date2):\n",
    "    return int((getDate(date1) - getDate(date2)).total_seconds())"
   ]
  },
  {
   "cell_type": "code",
   "execution_count": null,
   "metadata": {},
   "outputs": [],
   "source": [
    "maxlen = max(len(voltage), len(moisture), len(water))\n",
    "i = 0\n",
    "j = 0\n",
    "k = 0\n",
    "result = []    \n",
    "while(True):\n",
    "    dif_1 = compareDates(voltage['date'][i], moisture['date'][j])\n",
    "    dif_2 = compareDates(moisture['date'][j], water['date'][k])\n",
    "    if(dif_1 <= 1 and dif_1 >= -1):\n",
    "        if(dif_2 <= 1 and dif_2 >= -1):\n",
    "            result.append({\"date\": getDate(voltage['date'][i]), \"voltage\": voltage['value'][i], \"moisture\": moisture['value'][j], \"water\": water['value'][k]})\n",
    "            k = k + 1\n",
    "        else:\n",
    "            result.append({\"date\": getDate(voltage['date'][i]), \"voltage\": voltage['value'][i], \"moisture\": moisture['value'][j]})\n",
    "        i = i + 1\n",
    "        j = j + 1\n",
    "    else:\n",
    "        if(dif_1 > 0):\n",
    "            j = j + 1\n",
    "        else:\n",
    "            i = i + 1\n",
    "    if(i >= maxlen or j >= maxlen or k >= maxlen):\n",
    "        break\n",
    "output = pd.DataFrame(result)"
   ]
  },
  {
   "cell_type": "code",
   "execution_count": null,
   "metadata": {},
   "outputs": [],
   "source": [
    "output"
   ]
  },
  {
   "cell_type": "markdown",
   "metadata": {},
   "source": [
    "Delete rows where time distance between measurements less than 55 minutes"
   ]
  },
  {
   "cell_type": "code",
   "execution_count": null,
   "metadata": {},
   "outputs": [],
   "source": [
    "def compareDatesA(date1, date2):\n",
    "    return int((date1 - date2).total_seconds())"
   ]
  },
  {
   "cell_type": "code",
   "execution_count": null,
   "metadata": {},
   "outputs": [],
   "source": [
    "toDrop = []\n",
    "for i in range(0, len(output) - 1):\n",
    "    if compareDatesA(output[\"date\"][i + 1], output[\"date\"][i]) < 3300:\n",
    "        toDrop.append(i)\n",
    "output.drop(toDrop, inplace = True)"
   ]
  },
  {
   "cell_type": "code",
   "execution_count": null,
   "metadata": {},
   "outputs": [],
   "source": [
    "output"
   ]
  },
  {
   "cell_type": "markdown",
   "metadata": {},
   "source": [
    "Save final data to excel file"
   ]
  },
  {
   "cell_type": "code",
   "execution_count": null,
   "metadata": {},
   "outputs": [],
   "source": [
    "output.to_excel(\"./output.xlsx\")"
   ]
  },
  {
   "cell_type": "code",
   "execution_count": null,
   "metadata": {},
   "outputs": [],
   "source": []
  },
  {
   "cell_type": "code",
   "execution_count": null,
   "metadata": {},
   "outputs": [],
   "source": []
  },
  {
   "cell_type": "code",
   "execution_count": null,
   "metadata": {},
   "outputs": [],
   "source": []
  }
 ],
 "metadata": {
  "kernelspec": {
   "display_name": "Python 3",
   "language": "python",
   "name": "python3"
  },
  "language_info": {
   "codemirror_mode": {
    "name": "ipython",
    "version": 3
   },
   "file_extension": ".py",
   "mimetype": "text/x-python",
   "name": "python",
   "nbconvert_exporter": "python",
   "pygments_lexer": "ipython3",
   "version": "3.6.7"
  }
 },
 "nbformat": 4,
 "nbformat_minor": 2
}
